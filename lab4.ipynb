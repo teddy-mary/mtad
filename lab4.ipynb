{
 "cells": [
  {
   "cell_type": "markdown",
   "id": "c1aeb65b-7f39-4e1e-befd-ec6847743d6b",
   "metadata": {},
   "source": [
    "# ДЗ №4\n",
    "### *виконала студентка групи ФБ-33 Журавльова Марія* ###"
   ]
  },
  {
   "cell_type": "markdown",
   "id": "1a420fff-3eb4-40ac-b6d6-7ab7c475ac9a",
   "metadata": {},
   "source": [
    "Нагадаю, що мій набір даних - TMDB 10000 Movies Dataset (https://www.kaggle.com/datasets/i0xc0d3x00000/tmdb-10000-movies-dataset)\n",
    "\n",
    "**Опис колонок:**\n",
    "\n",
    "- title - назва фільму;\n",
    "- overview - опис сюжету фільму;\n",
    "- release_date - оригінальна дата випуску;\n",
    "- vote_average - середній рейтинг фільму;\n",
    "- vote_count - кількість отриманих голосів;\n",
    "- original_language - мова зйомки;\n",
    "- popularity - індекс популярності."
   ]
  },
  {
   "cell_type": "markdown",
   "id": "d574b25a-5f78-44fa-81b1-e8254c328b9f",
   "metadata": {},
   "source": [
    "**Прокласифікувати методом К найближчих судідів:**\n"
   ]
  },
  {
   "cell_type": "code",
   "execution_count": 1,
   "id": "338f19a7-8383-4029-af62-ca9d6515f34b",
   "metadata": {},
   "outputs": [],
   "source": [
    "import pandas as pd\n",
    "from sklearn.model_selection import train_test_split, cross_val_score\n",
    "from sklearn.preprocessing import StandardScaler\n",
    "from sklearn.neighbors import KNeighborsClassifier\n",
    "from sklearn.metrics import accuracy_score\n",
    "import numpy as np\n",
    "\n",
    "# Завантаження даних\n",
    "df = pd.read_csv(r\"C:\\Users\\User\\OneDrive\\Desktop\\university\\МТАД\\movie_tmdb_clean.csv\")\n",
    "\n",
    "# Визначення \"успішного\" фільму\n",
    "df['label'] = (df['vote_average'] >= 8).astype(int)\n",
    "\n",
    "# Визначення ознак\n",
    "X = df[['vote_count', 'popularity']]\n",
    "Y = df['label']\n",
    "\n",
    "# Стандартизація\n",
    "scaler = StandardScaler()\n",
    "X_scaled = scaler.fit_transform(X)"
   ]
  },
  {
   "cell_type": "markdown",
   "id": "a66b0af2-eba8-4d12-9484-745c375d2163",
   "metadata": {},
   "source": [
    "- Поділити вибірку на тестову та начальну;"
   ]
  },
  {
   "cell_type": "code",
   "execution_count": 2,
   "id": "eb9b65bd-91e5-42f3-a5ea-5dbde4ce8041",
   "metadata": {},
   "outputs": [],
   "source": [
    "X_train, X_test, Y_train, Y_test = train_test_split(X_scaled, Y, test_size=0.3, random_state=100)"
   ]
  },
  {
   "cell_type": "markdown",
   "id": "83920f62-66b7-4cde-bed1-537356e9d7db",
   "metadata": {},
   "source": [
    "- Розрахувати скільки потрібно обрати найближчих записів, щоб точність була не нижче 85%;\n",
    "- Порахувати точність для тестової вибірки;"
   ]
  },
  {
   "cell_type": "code",
   "execution_count": 3,
   "id": "8405d618-9b7e-4dce-b04c-e4bce4ca9591",
   "metadata": {},
   "outputs": [
    {
     "name": "stdout",
     "output_type": "stream",
     "text": [
      "     K Accuracy\n",
      "0    1    0.946\n",
      "1    2    0.972\n",
      "2    3    0.968\n",
      "3    4    0.972\n",
      "4    5    0.972\n",
      "5    6    0.972\n",
      "6    7    0.972\n",
      "7    8    0.972\n",
      "8    9    0.972\n",
      "9   10    0.972\n",
      "10  11    0.972\n",
      "11  12    0.972\n",
      "12  13    0.972\n",
      "13  14    0.972\n",
      "14  15    0.972\n",
      "15  16    0.972\n",
      "16  17    0.972\n",
      "17  18    0.972\n",
      "18  19    0.972\n",
      "19  20    0.972\n",
      "\n",
      "Оптимальне K=2\n",
      "Точність текстової вибірки при K=2: 0.972\n"
     ]
    }
   ],
   "source": [
    "optimal_k = 0\n",
    "best_acc = 0\n",
    "results_data = []\n",
    "\n",
    "for k in range(1, 21):\n",
    "    knn = KNeighborsClassifier(n_neighbors=k)\n",
    "    knn.fit(X_train, Y_train)\n",
    "    y_pred = knn.predict(X_test)\n",
    "    acc = accuracy_score(Y_test, y_pred)\n",
    "    results_data.append({'K': k, 'Accuracy': acc})\n",
    "    if acc >= 0.85 and acc > best_acc:\n",
    "        best_acc = acc\n",
    "        optimal_k = k\n",
    "\n",
    "df_results = pd.DataFrame(results_data)\n",
    "df_results['Accuracy'] = df_results['Accuracy'].map('{:.3f}'.format)\n",
    "print(df_results)\n",
    "print(f\"\\nОптимальне K={optimal_k}\")\n",
    "print(f\"Точність текстової вибірки при K={optimal_k}: {best_acc:.3f}\")"
   ]
  },
  {
   "cell_type": "markdown",
   "id": "1894b8f8-5ae5-415c-8721-17aaeb243c0a",
   "metadata": {},
   "source": [
    "- Зробити крос валідацію на 3 блоках;"
   ]
  },
  {
   "cell_type": "code",
   "execution_count": 4,
   "id": "490266fb-5cd9-406f-b92e-fd65a1b4049e",
   "metadata": {},
   "outputs": [
    {
     "name": "stdout",
     "output_type": "stream",
     "text": [
      "Результати:\n",
      " - Блок 1  : 0.970\n",
      " - Блок 2  : 0.971\n",
      " - Блок 3  : 0.970\n",
      "Середня точність крос-валідації: 0.970\n",
      "Стандартне відхилення: 0.000\n"
     ]
    }
   ],
   "source": [
    "knn = KNeighborsClassifier(n_neighbors=optimal_k)\n",
    "cv_scores = cross_val_score(knn, X_scaled, Y, cv=3, scoring='accuracy')\n",
    "print(\"Результати:\")\n",
    "for i, score in enumerate(cv_scores, 1):\n",
    "    print (f\" - Блок {i:<2} : {score:.3f}\")\n",
    "print(f\"Середня точність крос-валідації: {cv_scores.mean():.3f}\")\n",
    "print(f\"Стандартне відхилення: {cv_scores.std():.3f}\")"
   ]
  },
  {
   "cell_type": "markdown",
   "id": "973a34e7-7d50-44d0-bfa9-079cd5cf48a4",
   "metadata": {},
   "source": [
    "**Висновки.** Метод KNN успішно класифікував фільми на \"успішні\" та \"неуспішні\". Оптимальним значенням було обрано K=2 як найменше значення K, яке дає максимальну точність на текстовій виборці. Результати крос-валідації показали високу середню точність, що вказує на те, що модель KNN з K=2 має високу узагальнюючу здатність. Стандартне відхилення крос-валідації становить 0, що свідчить про ідеальну стабільність моделі."
   ]
  },
  {
   "cell_type": "code",
   "execution_count": null,
   "id": "eee60b1f-501b-4a22-907e-15e8e08ea1c5",
   "metadata": {},
   "outputs": [],
   "source": []
  }
 ],
 "metadata": {
  "kernelspec": {
   "display_name": "Python 3 (ipykernel)",
   "language": "python",
   "name": "python3"
  },
  "language_info": {
   "codemirror_mode": {
    "name": "ipython",
    "version": 3
   },
   "file_extension": ".py",
   "mimetype": "text/x-python",
   "name": "python",
   "nbconvert_exporter": "python",
   "pygments_lexer": "ipython3",
   "version": "3.12.3"
  }
 },
 "nbformat": 4,
 "nbformat_minor": 5
}
