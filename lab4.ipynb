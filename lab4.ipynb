{
 "cells": [
  {
   "cell_type": "markdown",
   "id": "d217f171-650a-42bc-856c-c7b152c3b000",
   "metadata": {},
   "source": [
    "# ДЗ №4\n",
    "### *виконала студентка групи ФБ-33 Журавльова Марія* ###"
   ]
  },
  {
   "cell_type": "markdown",
   "id": "042f5eb0-7bb2-484a-ae67-036dd783ab5c",
   "metadata": {},
   "source": [
    "Нагадаю, що мій набір даних - TMDB 10000 Movies Dataset (https://www.kaggle.com/datasets/i0xc0d3x00000/tmdb-10000-movies-dataset)\n",
    "\n",
    "**Опис колонок:**\n",
    "\n",
    "- title - назва фільму;\n",
    "- overview - опис сюжету фільму;\n",
    "- release_date - оригінальна дата випуску;\n",
    "- vote_average - середній рейтинг фільму;\n",
    "- vote_count - кількість отриманих голосів;\n",
    "- original_language - мова зйомки;\n",
    "- popularity - індекс популярності."
   ]
  },
  {
   "cell_type": "markdown",
   "id": "3e23158e-74c8-4d7e-b470-70f3822da2f4",
   "metadata": {},
   "source": [
    "**Прокласифікувати методом К найближчих судідів:**\n",
    "- Поділити вибірку на тестову та начальну;\n",
    "\n",
    "Для цього повторюю кроки з дз №3:"
   ]
  },
  {
   "cell_type": "code",
   "execution_count": 1,
   "id": "8366c950-5f19-413d-94ee-3cd255e31d89",
   "metadata": {},
   "outputs": [],
   "source": [
    "import pandas as pd\n",
    "import matplotlib.pyplot as plt\n",
    "from sklearn.cluster import KMeans\n",
    "from sklearn.preprocessing import StandardScaler\n",
    "from sklearn.model_selection import train_test_split\n",
    "\n",
    "# завантажую дані\n",
    "df = pd.read_csv(r\"C:\\Users\\User\\OneDrive\\Desktop\\university\\МТАД\\movie_tmdb_clean.csv\")\n",
    "x = df[['vote_average', 'vote_count']]\n",
    "\n",
    "# маштабування (стандартизація даних)\n",
    "scaler = StandardScaler()\n",
    "scaled_x = scaler.fit_transform(x)\n",
    "\n",
    "# k=3\n",
    "kmeans = KMeans(n_clusters=3, random_state=42)\n",
    "clusters = kmeans.fit_predict(scaled_x)\n",
    "\n",
    "df_clusters = x.copy()\n",
    "df_clusters['clusters'] = clusters\n",
    "\n",
    "subset = df_clusters[df_clusters['clusters'].isin([1, 2])].copy()\n",
    "\n",
    "# нова мітка для SVM (1->0, 2->1)\n",
    "subset['label'] = subset['clusters'].map({1:0, 2:1})\n",
    "\n",
    "X = subset[['vote_average', 'vote_count']]\n",
    "Y = subset['label']\n",
    "\n",
    "scaler = StandardScaler()\n",
    "X_scaled = scaler.fit_transform(X)\n",
    "\n",
    "# розділення на набори train та test\n",
    "X_train, X_test, Y_train, Y_test = train_test_split(X_scaled, Y, test_size=0.3, random_state=100)"
   ]
  },
  {
   "cell_type": "markdown",
   "id": "e0e470df-4f42-480f-bcdc-9feba843861c",
   "metadata": {},
   "source": [
    "- Розрахувати скільки потрібно обрати найближчих записів, щоб точність була не нижче 85%;"
   ]
  },
  {
   "cell_type": "code",
   "execution_count": 2,
   "id": "be249778-59e7-4fce-a30c-796872e2cb10",
   "metadata": {},
   "outputs": [
    {
     "name": "stdout",
     "output_type": "stream",
     "text": [
      "Мінімальна кількість К для точності >= 85%: 1\n"
     ]
    }
   ],
   "source": [
    "from sklearn.neighbors import KNeighborsClassifier\n",
    "from sklearn.metrics import accuracy_score\n",
    "\n",
    "k_values = range(1, 31)\n",
    "accuracies = []\n",
    "optimal_k = 0\n",
    "\n",
    "for k in k_values:\n",
    "    knn = KNeighborsClassifier(n_neighbors=k)\n",
    "    knn.fit(X_train, Y_train)\n",
    "    y_pred = knn.predict(X_test)\n",
    "    acc = accuracy_score(Y_test, y_pred)\n",
    "    accuracies.append(acc)\n",
    "    if acc >=0.85 and optimal_k == 0:\n",
    "        optimal_k = k\n",
    "\n",
    "print(f\"Мінімальна кількість К для точності >= 85%: {optimal_k}\")"
   ]
  },
  {
   "cell_type": "markdown",
   "id": "64457a4e-9a71-402c-99f0-118756696a79",
   "metadata": {},
   "source": [
    "- Порахувати точність для тестової вибірки;"
   ]
  },
  {
   "cell_type": "code",
   "execution_count": 3,
   "id": "cd2e1057-0877-49d2-a2e2-1a7a20ba8b49",
   "metadata": {},
   "outputs": [
    {
     "name": "stdout",
     "output_type": "stream",
     "text": [
      "Точність: 1.0\n"
     ]
    }
   ],
   "source": [
    "knn_optimal = KNeighborsClassifier(n_neighbors=optimal_k)\n",
    "knn_optimal.fit(X_train, Y_train)\n",
    "y_test_pred = knn_optimal.predict(X_test)\n",
    "test_accuracy = accuracy_score(Y_test, y_test_pred)\n",
    "\n",
    "print(f\"Точність: {test_accuracy}\")"
   ]
  },
  {
   "cell_type": "markdown",
   "id": "763afb5d-6c58-424f-9224-5b740cea40ea",
   "metadata": {},
   "source": [
    "- Зробити крос валідацію на 3 блоках;"
   ]
  },
  {
   "cell_type": "code",
   "execution_count": 4,
   "id": "50ea6c82-bc23-4f44-81d0-5a9a61623bf3",
   "metadata": {},
   "outputs": [
    {
     "name": "stdout",
     "output_type": "stream",
     "text": [
      "Результати:\n",
      " - Блок 1  : 0.734\n",
      " - Блок 2  : 1.000\n",
      " - Блок 3  : 0.799\n",
      "Середня точність крос-валідації: 0.844\n",
      "Стандартне відхилення: 0.113\n"
     ]
    }
   ],
   "source": [
    "from sklearn.model_selection import cross_val_score\n",
    "\n",
    "cv_scores = cross_val_score(knn_optimal, X_scaled, Y, cv=3, scoring='accuracy')\n",
    "print(\"Результати:\")\n",
    "for i, score in enumerate(cv_scores, 1):\n",
    "    print (f\" - Блок {i:<2} : {score:.3f}\")\n",
    "print(f\"Середня точність крос-валідації: {cv_scores.mean():.3f}\")\n",
    "print(f\"Стандартне відхилення: {cv_scores.std():.3f}\")"
   ]
  },
  {
   "cell_type": "markdown",
   "id": "d3e5fe3e-dc7d-4bac-854f-7e2c87282243",
   "metadata": {},
   "source": [
    "**Висновки.** Після тестування різних значень K було знайдено, що при K=1 точність класифікації на тестовій виборці досягає 100%, що вказує на дуже чітке розділення даних між класами. Незважаючи на високу середню точність крос-валідації (~84%), спостерігається помітне стандартне відхилення (0.113) та значний розкид результатів (від 0.734 до 1). Це свідчить про те, що модель KNN з K=1 хоч і демонструє високу точність, проте все ж є недостатньо стабільною через надмірну чутливість до вибірки даних."
   ]
  },
  {
   "cell_type": "markdown",
   "id": "6db3edf3-c2b2-45f4-bced-39a443e9417a",
   "metadata": {},
   "source": [
    "Для наочності проведу повторну класифікацію з K=3:"
   ]
  },
  {
   "cell_type": "code",
   "execution_count": 7,
   "id": "c83d0f04-ea5c-46d4-bbd3-7c9f55c38990",
   "metadata": {},
   "outputs": [
    {
     "name": "stdout",
     "output_type": "stream",
     "text": [
      "Точність: 1.0\n"
     ]
    }
   ],
   "source": [
    "knn = KNeighborsClassifier(n_neighbors=3)\n",
    "knn.fit(X_train, Y_train)\n",
    "y_test_pred = knn.predict(X_test)\n",
    "test_accuracy = accuracy_score(Y_test, y_test_pred)\n",
    "\n",
    "print(f\"Точність: {test_accuracy}\")"
   ]
  },
  {
   "cell_type": "code",
   "execution_count": 8,
   "id": "6dfef8c6-6014-4040-a309-ca23ed9ae9a5",
   "metadata": {},
   "outputs": [
    {
     "name": "stdout",
     "output_type": "stream",
     "text": [
      "Результати:\n",
      " - Блок 1  : 0.714\n",
      " - Блок 2  : 1.000\n",
      " - Блок 3  : 0.794\n",
      "Середня точність крос-валідації: 0.836\n",
      "Стандартне відхилення: 0.121\n"
     ]
    }
   ],
   "source": [
    "cv_scores = cross_val_score(knn, X_scaled, Y, cv=3, scoring='accuracy')\n",
    "print(\"Результати:\")\n",
    "for i, score in enumerate(cv_scores, 1):\n",
    "    print (f\" - Блок {i:<2} : {score:.3f}\")\n",
    "print(f\"Середня точність крос-валідації: {cv_scores.mean():.3f}\")\n",
    "print(f\"Стандартне відхилення: {cv_scores.std():.3f}\")"
   ]
  },
  {
   "cell_type": "markdown",
   "id": "22c360ed-62a5-454e-9988-2f349ce56d01",
   "metadata": {},
   "source": [
    "Бачимо, що використання більшого K призводить до зниження середньої точності та збільшення середнього відхилення. Отже, збільшення К лише погіршує узагальнюючу здатність моделі. Можна зробити висновок, що не завжди доцільно уникати малого К, особливо якщо ми впевнені, що наш набір даних є чистим (це ми з'ясували у дз №3). Таким чином, K=1 був дійсно оптимальним компромісом між точністю та ризиком нестабільності у цьому випадку."
   ]
  },
  {
   "cell_type": "code",
   "execution_count": null,
   "id": "c20f0f38-c28f-48a3-a7da-43af3bc274df",
   "metadata": {},
   "outputs": [],
   "source": []
  }
 ],
 "metadata": {
  "kernelspec": {
   "display_name": "Python 3 (ipykernel)",
   "language": "python",
   "name": "python3"
  },
  "language_info": {
   "codemirror_mode": {
    "name": "ipython",
    "version": 3
   },
   "file_extension": ".py",
   "mimetype": "text/x-python",
   "name": "python",
   "nbconvert_exporter": "python",
   "pygments_lexer": "ipython3",
   "version": "3.12.3"
  }
 },
 "nbformat": 4,
 "nbformat_minor": 5
}
